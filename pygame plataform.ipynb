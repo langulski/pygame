{
 "cells": [
  {
   "cell_type": "code",
   "execution_count": 10,
   "metadata": {},
   "outputs": [
    {
     "ename": "SyntaxError",
     "evalue": "invalid syntax (<ipython-input-10-a86ad5c02d7f>, line 52)",
     "output_type": "error",
     "traceback": [
      "\u001b[1;36m  File \u001b[1;32m\"<ipython-input-10-a86ad5c02d7f>\"\u001b[1;36m, line \u001b[1;32m52\u001b[0m\n\u001b[1;33m    player_rect.y = player_  location[1]\u001b[0m\n\u001b[1;37m                             ^\u001b[0m\n\u001b[1;31mSyntaxError\u001b[0m\u001b[1;31m:\u001b[0m invalid syntax\n"
     ]
    }
   ],
   "source": [
    "import os\n",
    "\n",
    "import pygame\n",
    "\n",
    "os.chdir('C:/Users/Lucas Angulski/Documents/GitHub/pygame')\n",
    "\n",
    "clock =pygame.time.Clock()\n",
    "\n",
    "import sys\n",
    "from pygame.locals import *\n",
    "pygame.init()\n",
    "\n",
    "pygame.display.set_caption('TESTING A PLATAFORM GAME WINDOW')\n",
    "\n",
    "player_image = pygame.image.load('Assets\\Sprites\\Idle.png')\n",
    "\n",
    "WINDOW_SIZE = (400, 400)\n",
    "\n",
    "screen =pygame.display.set_mode(WINDOW_SIZE,0,32) #start the window\n",
    "\n",
    "moving_right = False\n",
    "moving_left = False\n",
    "\n",
    "player_location = [50,50]\n",
    "player_y_momentum=0\n",
    "\n",
    "player_rect = pygame.Rect(player_location[0],player_location[1],player_image.get_width(),player_image.get_height())\n",
    "                          #X position         #y position\n",
    "\n",
    "test_rect = pygame.Rect(100,100,100,100)\n",
    "\n",
    "while True: #game loop \n",
    "    \n",
    "    screen.fill((13,6,13))\n",
    "    \n",
    "    screen.blit(player_image,player_location)\n",
    "    \n",
    "    if player_location[1] >WINDOW_SIZE[1]-player_image.get_height():\n",
    "        player_y_momentum = -player_y_momentum\n",
    "    else:\n",
    "        player_y_momentum += 0.2\n",
    "    player_location [1] += player_y_momentum\n",
    "    \n",
    "    \n",
    "    \n",
    "    if moving_right== True:\n",
    "         player_location[0] +=4\n",
    "    if moving_left == True:\n",
    "        player_location[0] -=4\n",
    "   \n",
    "    player_rect.x = player_location[0]\n",
    "    player_rect.y = player_  location[1]\n",
    "    if player_rect.colliderect(test_rect):\n",
    "        pygame.draw.rect(screen,(255,0,0),test_rect)\n",
    "    else:\n",
    "        pygame.draw.rect(screen,(0,0,255),test_rect)\n",
    "\n",
    "    \n",
    "    for event in pygame.event.get():\n",
    "        if event.type ==QUIT:\n",
    "            pygame.quit()\n",
    "            sys.exit()\n",
    "        if event.type ==KEYDOWN:\n",
    "            if event.key ==K_RIGHT:\n",
    "                moving_right = True\n",
    "            if event.key == K_LEFT:\n",
    "                moving_left = True\n",
    "        if event.type == KEYUP:\n",
    "            if event.key == K_RIGHT:\n",
    "                moving_right = False\n",
    "            if event.key == K_LEFT:\n",
    "                moving_left = False\n",
    "            \n",
    "    pygame.display.update()\n",
    "    clock.tick(60) #framerate\n",
    "    \n"
   ]
  },
  {
   "cell_type": "code",
   "execution_count": null,
   "metadata": {},
   "outputs": [],
   "source": []
  },
  {
   "cell_type": "code",
   "execution_count": null,
   "metadata": {},
   "outputs": [],
   "source": [
    "os.chdir('C:/Users/Lucas Angulski/Documents/GitHub/pygame')"
   ]
  }
 ],
 "metadata": {
  "kernelspec": {
   "display_name": "Python 3",
   "language": "python",
   "name": "python3"
  },
  "language_info": {
   "codemirror_mode": {
    "name": "ipython",
    "version": 3
   },
   "file_extension": ".py",
   "mimetype": "text/x-python",
   "name": "python",
   "nbconvert_exporter": "python",
   "pygments_lexer": "ipython3",
   "version": "3.8.5"
  }
 },
 "nbformat": 4,
 "nbformat_minor": 4
}
